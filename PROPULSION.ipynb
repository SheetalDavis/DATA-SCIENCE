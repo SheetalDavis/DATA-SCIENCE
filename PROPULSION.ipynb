{
 "cells": [
  {
   "cell_type": "markdown",
   "metadata": {
    "id": "Cy4v3I-00GP4"
   },
   "source": [
    "# **PROPULSION DATASET :**\n",
    "\n",
    "\n",
    "    "
   ]
  },
  {
   "cell_type": "code",
   "execution_count": 50,
   "metadata": {
    "id": "Q8vYWdXna91U"
   },
   "outputs": [],
   "source": [
    "import pandas as pd\n",
    "#load matplotlib\n",
    "import matplotlib.pyplot as plt\n",
    "%matplotlib inline\n",
    "#oad skearn\n",
    "from sklearn.model_selection import train_test_split\n",
    "from sklearn.preprocessing import StandardScaler\n",
    "from sklearn.ensemble import RandomForestClassifier\n",
    "from sklearn.metrics import confusion_matrix\n",
    "from sklearn.externals import joblib"
   ]
  },
  {
   "cell_type": "code",
   "execution_count": 51,
   "metadata": {
    "colab": {
     "base_uri": "https://localhost:8080/",
     "height": 326
    },
    "id": "tN0qpsbFbb6V",
    "outputId": "67e50d81-0d58-4029-f35a-72fb81d95a28"
   },
   "outputs": [
    {
     "data": {
      "text/html": [
       "<div>\n",
       "<style scoped>\n",
       "    .dataframe tbody tr th:only-of-type {\n",
       "        vertical-align: middle;\n",
       "    }\n",
       "\n",
       "    .dataframe tbody tr th {\n",
       "        vertical-align: top;\n",
       "    }\n",
       "\n",
       "    .dataframe thead th {\n",
       "        text-align: right;\n",
       "    }\n",
       "</style>\n",
       "<table border=\"1\" class=\"dataframe\">\n",
       "  <thead>\n",
       "    <tr style=\"text-align: right;\">\n",
       "      <th></th>\n",
       "      <th>Unnamed: 0</th>\n",
       "      <th>Lever position (lp) [ ]</th>\n",
       "      <th>Ship speed (v) [knots]</th>\n",
       "      <th>Gas Turbine shaft torque (GTT) [kN m]</th>\n",
       "      <th>Gas Turbine rate of revolutions (GTn) [rpm]</th>\n",
       "      <th>Gas Generator rate of revolutions (GGn) [rpm]</th>\n",
       "      <th>Starboard Propeller Torque (Ts) [kN]</th>\n",
       "      <th>Port Propeller Torque (Tp) [kN]</th>\n",
       "      <th>HP Turbine exit temperature (T48) [C]</th>\n",
       "      <th>GT Compressor inlet air temperature (T1) [C]</th>\n",
       "      <th>GT Compressor outlet air temperature (T2) [C]</th>\n",
       "      <th>HP Turbine exit pressure (P48) [bar]</th>\n",
       "      <th>GT Compressor inlet air pressure (P1) [bar]</th>\n",
       "      <th>GT Compressor outlet air pressure (P2) [bar]</th>\n",
       "      <th>Gas Turbine exhaust gas pressure (Pexh) [bar]</th>\n",
       "      <th>Turbine Injecton Control (TIC) [%]</th>\n",
       "      <th>Fuel flow (mf) [kg/s]</th>\n",
       "      <th>GT Compressor decay state coefficient.</th>\n",
       "      <th>GT Turbine decay state coefficient.</th>\n",
       "    </tr>\n",
       "  </thead>\n",
       "  <tbody>\n",
       "    <tr>\n",
       "      <th>0</th>\n",
       "      <td>0</td>\n",
       "      <td>9.300</td>\n",
       "      <td>27</td>\n",
       "      <td>72762.205</td>\n",
       "      <td>3560.393</td>\n",
       "      <td>9753.812</td>\n",
       "      <td>644.806</td>\n",
       "      <td>644.806</td>\n",
       "      <td>1086.583</td>\n",
       "      <td>288</td>\n",
       "      <td>780.304</td>\n",
       "      <td>4.523</td>\n",
       "      <td>0.998</td>\n",
       "      <td>22.879</td>\n",
       "      <td>1.050</td>\n",
       "      <td>90.435</td>\n",
       "      <td>1.790</td>\n",
       "      <td>0.973</td>\n",
       "      <td>0.978</td>\n",
       "    </tr>\n",
       "    <tr>\n",
       "      <th>1</th>\n",
       "      <td>1</td>\n",
       "      <td>6.175</td>\n",
       "      <td>18</td>\n",
       "      <td>29760.552</td>\n",
       "      <td>2306.825</td>\n",
       "      <td>8780.012</td>\n",
       "      <td>246.011</td>\n",
       "      <td>246.011</td>\n",
       "      <td>776.921</td>\n",
       "      <td>288</td>\n",
       "      <td>665.511</td>\n",
       "      <td>2.518</td>\n",
       "      <td>0.998</td>\n",
       "      <td>13.438</td>\n",
       "      <td>1.030</td>\n",
       "      <td>34.596</td>\n",
       "      <td>0.685</td>\n",
       "      <td>0.995</td>\n",
       "      <td>0.975</td>\n",
       "    </tr>\n",
       "    <tr>\n",
       "      <th>2</th>\n",
       "      <td>2</td>\n",
       "      <td>3.144</td>\n",
       "      <td>9</td>\n",
       "      <td>8375.774</td>\n",
       "      <td>1386.739</td>\n",
       "      <td>7051.621</td>\n",
       "      <td>60.318</td>\n",
       "      <td>60.318</td>\n",
       "      <td>589.764</td>\n",
       "      <td>288</td>\n",
       "      <td>580.587</td>\n",
       "      <td>1.392</td>\n",
       "      <td>0.998</td>\n",
       "      <td>7.566</td>\n",
       "      <td>1.020</td>\n",
       "      <td>12.477</td>\n",
       "      <td>0.247</td>\n",
       "      <td>0.980</td>\n",
       "      <td>0.978</td>\n",
       "    </tr>\n",
       "    <tr>\n",
       "      <th>3</th>\n",
       "      <td>3</td>\n",
       "      <td>3.144</td>\n",
       "      <td>9</td>\n",
       "      <td>8377.589</td>\n",
       "      <td>1386.748</td>\n",
       "      <td>7098.469</td>\n",
       "      <td>60.339</td>\n",
       "      <td>60.339</td>\n",
       "      <td>570.651</td>\n",
       "      <td>288</td>\n",
       "      <td>576.565</td>\n",
       "      <td>1.390</td>\n",
       "      <td>0.998</td>\n",
       "      <td>7.409</td>\n",
       "      <td>1.021</td>\n",
       "      <td>11.678</td>\n",
       "      <td>0.231</td>\n",
       "      <td>0.984</td>\n",
       "      <td>1.000</td>\n",
       "    </tr>\n",
       "    <tr>\n",
       "      <th>4</th>\n",
       "      <td>4</td>\n",
       "      <td>6.175</td>\n",
       "      <td>18</td>\n",
       "      <td>29761.091</td>\n",
       "      <td>2306.825</td>\n",
       "      <td>8782.024</td>\n",
       "      <td>246.021</td>\n",
       "      <td>246.021</td>\n",
       "      <td>769.855</td>\n",
       "      <td>288</td>\n",
       "      <td>663.682</td>\n",
       "      <td>2.518</td>\n",
       "      <td>0.998</td>\n",
       "      <td>13.374</td>\n",
       "      <td>1.031</td>\n",
       "      <td>34.154</td>\n",
       "      <td>0.676</td>\n",
       "      <td>0.998</td>\n",
       "      <td>0.980</td>\n",
       "    </tr>\n",
       "  </tbody>\n",
       "</table>\n",
       "</div>"
      ],
      "text/plain": [
       "   Unnamed: 0  Lever position (lp) [ ]  Ship speed (v) [knots]  \\\n",
       "0           0                    9.300                      27   \n",
       "1           1                    6.175                      18   \n",
       "2           2                    3.144                       9   \n",
       "3           3                    3.144                       9   \n",
       "4           4                    6.175                      18   \n",
       "\n",
       "   Gas Turbine shaft torque (GTT) [kN m]  \\\n",
       "0                              72762.205   \n",
       "1                              29760.552   \n",
       "2                               8375.774   \n",
       "3                               8377.589   \n",
       "4                              29761.091   \n",
       "\n",
       "   Gas Turbine rate of revolutions (GTn) [rpm]  \\\n",
       "0                                     3560.393   \n",
       "1                                     2306.825   \n",
       "2                                     1386.739   \n",
       "3                                     1386.748   \n",
       "4                                     2306.825   \n",
       "\n",
       "   Gas Generator rate of revolutions (GGn) [rpm]  \\\n",
       "0                                       9753.812   \n",
       "1                                       8780.012   \n",
       "2                                       7051.621   \n",
       "3                                       7098.469   \n",
       "4                                       8782.024   \n",
       "\n",
       "   Starboard Propeller Torque (Ts) [kN]  Port Propeller Torque (Tp) [kN]  \\\n",
       "0                               644.806                          644.806   \n",
       "1                               246.011                          246.011   \n",
       "2                                60.318                           60.318   \n",
       "3                                60.339                           60.339   \n",
       "4                               246.021                          246.021   \n",
       "\n",
       "   HP Turbine exit temperature (T48) [C]  \\\n",
       "0                               1086.583   \n",
       "1                                776.921   \n",
       "2                                589.764   \n",
       "3                                570.651   \n",
       "4                                769.855   \n",
       "\n",
       "   GT Compressor inlet air temperature (T1) [C]  \\\n",
       "0                                           288   \n",
       "1                                           288   \n",
       "2                                           288   \n",
       "3                                           288   \n",
       "4                                           288   \n",
       "\n",
       "   GT Compressor outlet air temperature (T2) [C]  \\\n",
       "0                                        780.304   \n",
       "1                                        665.511   \n",
       "2                                        580.587   \n",
       "3                                        576.565   \n",
       "4                                        663.682   \n",
       "\n",
       "   HP Turbine exit pressure (P48) [bar]  \\\n",
       "0                                 4.523   \n",
       "1                                 2.518   \n",
       "2                                 1.392   \n",
       "3                                 1.390   \n",
       "4                                 2.518   \n",
       "\n",
       "   GT Compressor inlet air pressure (P1) [bar]  \\\n",
       "0                                        0.998   \n",
       "1                                        0.998   \n",
       "2                                        0.998   \n",
       "3                                        0.998   \n",
       "4                                        0.998   \n",
       "\n",
       "   GT Compressor outlet air pressure (P2) [bar]  \\\n",
       "0                                        22.879   \n",
       "1                                        13.438   \n",
       "2                                         7.566   \n",
       "3                                         7.409   \n",
       "4                                        13.374   \n",
       "\n",
       "   Gas Turbine exhaust gas pressure (Pexh) [bar]  \\\n",
       "0                                          1.050   \n",
       "1                                          1.030   \n",
       "2                                          1.020   \n",
       "3                                          1.021   \n",
       "4                                          1.031   \n",
       "\n",
       "   Turbine Injecton Control (TIC) [%]  Fuel flow (mf) [kg/s]  \\\n",
       "0                              90.435                  1.790   \n",
       "1                              34.596                  0.685   \n",
       "2                              12.477                  0.247   \n",
       "3                              11.678                  0.231   \n",
       "4                              34.154                  0.676   \n",
       "\n",
       "   GT Compressor decay state coefficient.  GT Turbine decay state coefficient.  \n",
       "0                                   0.973                                0.978  \n",
       "1                                   0.995                                0.975  \n",
       "2                                   0.980                                0.978  \n",
       "3                                   0.984                                1.000  \n",
       "4                                   0.998                                0.980  "
      ]
     },
     "execution_count": 51,
     "metadata": {},
     "output_type": "execute_result"
    }
   ],
   "source": [
    "propulsion = pd.read_csv('propulsion.csv')\n",
    "df=pd.DataFrame(propulsion)\n",
    "df.head() #.head() prints the first five rows of the dataset."
   ]
  },
  {
   "cell_type": "code",
   "execution_count": 3,
   "metadata": {},
   "outputs": [],
   "source": [
    "#EXPLORATORY DATA ANALYSIS"
   ]
  },
  {
   "cell_type": "code",
   "execution_count": 4,
   "metadata": {
    "colab": {
     "base_uri": "https://localhost:8080/"
    },
    "id": "sZ3eWzF9bqXa",
    "outputId": "2b993d3a-43b4-4504-982e-dcada86c3a09"
   },
   "outputs": [
    {
     "data": {
      "text/plain": [
       "(10000, 19)"
      ]
     },
     "execution_count": 4,
     "metadata": {},
     "output_type": "execute_result"
    }
   ],
   "source": [
    "df.shape #.shape gives the the number of rows by number of columns value. "
   ]
  },
  {
   "cell_type": "code",
   "execution_count": 5,
   "metadata": {},
   "outputs": [],
   "source": [
    "#This data set have 10000 rows and 19 columns"
   ]
  },
  {
   "cell_type": "code",
   "execution_count": 6,
   "metadata": {
    "colab": {
     "base_uri": "https://localhost:8080/"
    },
    "id": "Qefe2MRMbtJM",
    "outputId": "44ecd8f3-e888-47d5-8b71-4b7ceb6b855d"
   },
   "outputs": [
    {
     "data": {
      "text/plain": [
       "Index(['Unnamed: 0', 'Lever position (lp) [ ]', 'Ship speed (v) [knots]',\n",
       "       'Gas Turbine shaft torque (GTT) [kN m]',\n",
       "       'Gas Turbine rate of revolutions (GTn) [rpm]',\n",
       "       'Gas Generator rate of revolutions (GGn) [rpm]',\n",
       "       'Starboard Propeller Torque (Ts) [kN]',\n",
       "       'Port Propeller Torque (Tp) [kN]',\n",
       "       'HP Turbine exit temperature (T48) [C]',\n",
       "       'GT Compressor inlet air temperature (T1) [C]',\n",
       "       'GT Compressor outlet air temperature (T2) [C]',\n",
       "       'HP Turbine exit pressure (P48) [bar]',\n",
       "       'GT Compressor inlet air pressure (P1) [bar]',\n",
       "       'GT Compressor outlet air pressure (P2) [bar]',\n",
       "       'Gas Turbine exhaust gas pressure (Pexh) [bar]',\n",
       "       'Turbine Injecton Control (TIC) [%]', 'Fuel flow (mf) [kg/s]',\n",
       "       'GT Compressor decay state coefficient.',\n",
       "       'GT Turbine decay state coefficient.'],\n",
       "      dtype='object')"
      ]
     },
     "execution_count": 6,
     "metadata": {},
     "output_type": "execute_result"
    }
   ],
   "source": [
    "df.columns # .columns give the name of all the columns in the data set "
   ]
  },
  {
   "cell_type": "code",
   "execution_count": 7,
   "metadata": {
    "id": "mDUn0be7MLNo"
   },
   "outputs": [],
   "source": [
    "#.astype converts data with float datatype to category\n",
    "df['GT Turbine decay state coefficient.']=df['GT Turbine decay state coefficient.'].astype('category')\n",
    "df['GT Compressor decay state coefficient.']=df['GT Compressor decay state coefficient.'].astype('category')"
   ]
  },
  {
   "cell_type": "code",
   "execution_count": 8,
   "metadata": {
    "colab": {
     "base_uri": "https://localhost:8080/"
    },
    "id": "IakGzW_mbvGo",
    "outputId": "21f93890-2f1a-408e-f48f-4fe4d86e6139"
   },
   "outputs": [
    {
     "name": "stdout",
     "output_type": "stream",
     "text": [
      "Unnamed: 0                                          int64\n",
      "Lever position (lp) [ ]                           float64\n",
      "Ship speed (v) [knots]                              int64\n",
      "Gas Turbine shaft torque (GTT) [kN m]             float64\n",
      "Gas Turbine rate of revolutions (GTn) [rpm]       float64\n",
      "Gas Generator rate of revolutions (GGn) [rpm]     float64\n",
      "Starboard Propeller Torque (Ts) [kN]              float64\n",
      "Port Propeller Torque (Tp) [kN]                   float64\n",
      "HP Turbine exit temperature (T48) [C]             float64\n",
      "GT Compressor inlet air temperature (T1) [C]        int64\n",
      "GT Compressor outlet air temperature (T2) [C]     float64\n",
      "HP Turbine exit pressure (P48) [bar]              float64\n",
      "GT Compressor inlet air pressure (P1) [bar]       float64\n",
      "GT Compressor outlet air pressure (P2) [bar]      float64\n",
      "Gas Turbine exhaust gas pressure (Pexh) [bar]     float64\n",
      "Turbine Injecton Control (TIC) [%]                float64\n",
      "Fuel flow (mf) [kg/s]                             float64\n",
      "GT Compressor decay state coefficient.           category\n",
      "GT Turbine decay state coefficient.              category\n",
      "dtype: object\n"
     ]
    }
   ],
   "source": [
    "print (df.dtypes) #.dtypes give the data type of all columns in the data set."
   ]
  },
  {
   "cell_type": "code",
   "execution_count": 9,
   "metadata": {
    "colab": {
     "base_uri": "https://localhost:8080/"
    },
    "id": "YixUXryqcGjF",
    "outputId": "f1e34342-82b0-44d1-eae1-c3bf47dec758"
   },
   "outputs": [
    {
     "data": {
      "text/plain": [
       "Unnamed: 0                                       10000\n",
       "Lever position (lp) [ ]                              9\n",
       "Ship speed (v) [knots]                               9\n",
       "Gas Turbine shaft torque (GTT) [kN m]             9634\n",
       "Gas Turbine rate of revolutions (GTn) [rpm]       3422\n",
       "Gas Generator rate of revolutions (GGn) [rpm]     9926\n",
       "Starboard Propeller Torque (Ts) [kN]              3880\n",
       "Port Propeller Torque (Tp) [kN]                   3880\n",
       "HP Turbine exit temperature (T48) [C]             9890\n",
       "GT Compressor inlet air temperature (T1) [C]         1\n",
       "GT Compressor outlet air temperature (T2) [C]     9694\n",
       "HP Turbine exit pressure (P48) [bar]               523\n",
       "GT Compressor inlet air pressure (P1) [bar]          1\n",
       "GT Compressor outlet air pressure (P2) [bar]      4000\n",
       "Gas Turbine exhaust gas pressure (Pexh) [bar]       19\n",
       "Turbine Injecton Control (TIC) [%]                7403\n",
       "Fuel flow (mf) [kg/s]                              694\n",
       "GT Compressor decay state coefficient.              51\n",
       "GT Turbine decay state coefficient.                 26\n",
       "dtype: int64"
      ]
     },
     "execution_count": 9,
     "metadata": {},
     "output_type": "execute_result"
    }
   ],
   "source": [
    "df.nunique(axis=0) #unique value in each attribute. "
   ]
  },
  {
   "cell_type": "code",
   "execution_count": 10,
   "metadata": {
    "colab": {
     "base_uri": "https://localhost:8080/",
     "height": 385
    },
    "id": "KKH1PSF_cNsS",
    "outputId": "37023af0-79f2-494c-ee4d-9b0f924746ef"
   },
   "outputs": [
    {
     "data": {
      "text/html": [
       "<div>\n",
       "<style scoped>\n",
       "    .dataframe tbody tr th:only-of-type {\n",
       "        vertical-align: middle;\n",
       "    }\n",
       "\n",
       "    .dataframe tbody tr th {\n",
       "        vertical-align: top;\n",
       "    }\n",
       "\n",
       "    .dataframe thead th {\n",
       "        text-align: right;\n",
       "    }\n",
       "</style>\n",
       "<table border=\"1\" class=\"dataframe\">\n",
       "  <thead>\n",
       "    <tr style=\"text-align: right;\">\n",
       "      <th></th>\n",
       "      <th>Unnamed: 0</th>\n",
       "      <th>Lever position (lp) [ ]</th>\n",
       "      <th>Ship speed (v) [knots]</th>\n",
       "      <th>Gas Turbine shaft torque (GTT) [kN m]</th>\n",
       "      <th>Gas Turbine rate of revolutions (GTn) [rpm]</th>\n",
       "      <th>Gas Generator rate of revolutions (GGn) [rpm]</th>\n",
       "      <th>Starboard Propeller Torque (Ts) [kN]</th>\n",
       "      <th>Port Propeller Torque (Tp) [kN]</th>\n",
       "      <th>HP Turbine exit temperature (T48) [C]</th>\n",
       "      <th>GT Compressor inlet air temperature (T1) [C]</th>\n",
       "      <th>GT Compressor outlet air temperature (T2) [C]</th>\n",
       "      <th>HP Turbine exit pressure (P48) [bar]</th>\n",
       "      <th>GT Compressor inlet air pressure (P1) [bar]</th>\n",
       "      <th>GT Compressor outlet air pressure (P2) [bar]</th>\n",
       "      <th>Gas Turbine exhaust gas pressure (Pexh) [bar]</th>\n",
       "      <th>Turbine Injecton Control (TIC) [%]</th>\n",
       "      <th>Fuel flow (mf) [kg/s]</th>\n",
       "    </tr>\n",
       "  </thead>\n",
       "  <tbody>\n",
       "    <tr>\n",
       "      <th>count</th>\n",
       "      <td>10000.00000</td>\n",
       "      <td>10000.000000</td>\n",
       "      <td>10000.000000</td>\n",
       "      <td>10000.000000</td>\n",
       "      <td>10000.000000</td>\n",
       "      <td>10000.000000</td>\n",
       "      <td>10000.000000</td>\n",
       "      <td>10000.000000</td>\n",
       "      <td>10000.000000</td>\n",
       "      <td>10000.0</td>\n",
       "      <td>10000.000000</td>\n",
       "      <td>10000.000000</td>\n",
       "      <td>1.000000e+04</td>\n",
       "      <td>10000.000000</td>\n",
       "      <td>10000.000000</td>\n",
       "      <td>10000.000000</td>\n",
       "      <td>10000.000000</td>\n",
       "    </tr>\n",
       "    <tr>\n",
       "      <th>mean</th>\n",
       "      <td>4999.50000</td>\n",
       "      <td>5.150075</td>\n",
       "      <td>14.951400</td>\n",
       "      <td>27100.647714</td>\n",
       "      <td>2131.151788</td>\n",
       "      <td>8194.182366</td>\n",
       "      <td>225.957785</td>\n",
       "      <td>225.957785</td>\n",
       "      <td>734.476178</td>\n",
       "      <td>288.0</td>\n",
       "      <td>645.748980</td>\n",
       "      <td>2.345732</td>\n",
       "      <td>9.980000e-01</td>\n",
       "      <td>12.262597</td>\n",
       "      <td>1.029402</td>\n",
       "      <td>33.480715</td>\n",
       "      <td>0.659100</td>\n",
       "    </tr>\n",
       "    <tr>\n",
       "      <th>std</th>\n",
       "      <td>2886.89568</td>\n",
       "      <td>2.624015</td>\n",
       "      <td>7.740467</td>\n",
       "      <td>22062.780307</td>\n",
       "      <td>772.211732</td>\n",
       "      <td>1090.569425</td>\n",
       "      <td>199.737886</td>\n",
       "      <td>199.737886</td>\n",
       "      <td>173.009157</td>\n",
       "      <td>0.0</td>\n",
       "      <td>72.483036</td>\n",
       "      <td>1.081038</td>\n",
       "      <td>2.236101e-13</td>\n",
       "      <td>5.320817</td>\n",
       "      <td>0.010353</td>\n",
       "      <td>25.721725</td>\n",
       "      <td>0.504791</td>\n",
       "    </tr>\n",
       "    <tr>\n",
       "      <th>min</th>\n",
       "      <td>0.00000</td>\n",
       "      <td>1.138000</td>\n",
       "      <td>3.000000</td>\n",
       "      <td>253.547000</td>\n",
       "      <td>1307.675000</td>\n",
       "      <td>6589.002000</td>\n",
       "      <td>5.304000</td>\n",
       "      <td>5.304000</td>\n",
       "      <td>444.731000</td>\n",
       "      <td>288.0</td>\n",
       "      <td>540.999000</td>\n",
       "      <td>1.093000</td>\n",
       "      <td>9.980000e-01</td>\n",
       "      <td>5.828000</td>\n",
       "      <td>1.019000</td>\n",
       "      <td>0.000000</td>\n",
       "      <td>0.068000</td>\n",
       "    </tr>\n",
       "    <tr>\n",
       "      <th>25%</th>\n",
       "      <td>2499.75000</td>\n",
       "      <td>3.144000</td>\n",
       "      <td>9.000000</td>\n",
       "      <td>8375.791500</td>\n",
       "      <td>1386.758000</td>\n",
       "      <td>7056.520500</td>\n",
       "      <td>60.317000</td>\n",
       "      <td>60.317000</td>\n",
       "      <td>589.841000</td>\n",
       "      <td>288.0</td>\n",
       "      <td>577.980750</td>\n",
       "      <td>1.389000</td>\n",
       "      <td>9.980000e-01</td>\n",
       "      <td>7.445000</td>\n",
       "      <td>1.020000</td>\n",
       "      <td>13.534000</td>\n",
       "      <td>0.246000</td>\n",
       "    </tr>\n",
       "    <tr>\n",
       "      <th>50%</th>\n",
       "      <td>4999.50000</td>\n",
       "      <td>5.140000</td>\n",
       "      <td>15.000000</td>\n",
       "      <td>21630.133500</td>\n",
       "      <td>1924.325000</td>\n",
       "      <td>8480.527000</td>\n",
       "      <td>175.264000</td>\n",
       "      <td>175.264000</td>\n",
       "      <td>705.351000</td>\n",
       "      <td>288.0</td>\n",
       "      <td>636.800000</td>\n",
       "      <td>2.082000</td>\n",
       "      <td>9.980000e-01</td>\n",
       "      <td>11.086000</td>\n",
       "      <td>1.026000</td>\n",
       "      <td>25.249500</td>\n",
       "      <td>0.496000</td>\n",
       "    </tr>\n",
       "    <tr>\n",
       "      <th>75%</th>\n",
       "      <td>7499.25000</td>\n",
       "      <td>7.148000</td>\n",
       "      <td>21.000000</td>\n",
       "      <td>39000.710250</td>\n",
       "      <td>2678.078000</td>\n",
       "      <td>9132.132500</td>\n",
       "      <td>332.360000</td>\n",
       "      <td>332.360000</td>\n",
       "      <td>833.154750</td>\n",
       "      <td>288.0</td>\n",
       "      <td>693.656750</td>\n",
       "      <td>2.981000</td>\n",
       "      <td>9.980000e-01</td>\n",
       "      <td>15.649000</td>\n",
       "      <td>1.036000</td>\n",
       "      <td>44.500000</td>\n",
       "      <td>0.881000</td>\n",
       "    </tr>\n",
       "    <tr>\n",
       "      <th>max</th>\n",
       "      <td>9999.00000</td>\n",
       "      <td>9.300000</td>\n",
       "      <td>27.000000</td>\n",
       "      <td>72783.338000</td>\n",
       "      <td>3560.741000</td>\n",
       "      <td>9797.103000</td>\n",
       "      <td>645.249000</td>\n",
       "      <td>645.249000</td>\n",
       "      <td>1115.797000</td>\n",
       "      <td>288.0</td>\n",
       "      <td>789.094000</td>\n",
       "      <td>4.560000</td>\n",
       "      <td>9.980000e-01</td>\n",
       "      <td>23.140000</td>\n",
       "      <td>1.052000</td>\n",
       "      <td>92.556000</td>\n",
       "      <td>1.832000</td>\n",
       "    </tr>\n",
       "  </tbody>\n",
       "</table>\n",
       "</div>"
      ],
      "text/plain": [
       "        Unnamed: 0  Lever position (lp) [ ]  Ship speed (v) [knots]  \\\n",
       "count  10000.00000             10000.000000            10000.000000   \n",
       "mean    4999.50000                 5.150075               14.951400   \n",
       "std     2886.89568                 2.624015                7.740467   \n",
       "min        0.00000                 1.138000                3.000000   \n",
       "25%     2499.75000                 3.144000                9.000000   \n",
       "50%     4999.50000                 5.140000               15.000000   \n",
       "75%     7499.25000                 7.148000               21.000000   \n",
       "max     9999.00000                 9.300000               27.000000   \n",
       "\n",
       "       Gas Turbine shaft torque (GTT) [kN m]  \\\n",
       "count                           10000.000000   \n",
       "mean                            27100.647714   \n",
       "std                             22062.780307   \n",
       "min                               253.547000   \n",
       "25%                              8375.791500   \n",
       "50%                             21630.133500   \n",
       "75%                             39000.710250   \n",
       "max                             72783.338000   \n",
       "\n",
       "       Gas Turbine rate of revolutions (GTn) [rpm]  \\\n",
       "count                                 10000.000000   \n",
       "mean                                   2131.151788   \n",
       "std                                     772.211732   \n",
       "min                                    1307.675000   \n",
       "25%                                    1386.758000   \n",
       "50%                                    1924.325000   \n",
       "75%                                    2678.078000   \n",
       "max                                    3560.741000   \n",
       "\n",
       "       Gas Generator rate of revolutions (GGn) [rpm]  \\\n",
       "count                                   10000.000000   \n",
       "mean                                     8194.182366   \n",
       "std                                      1090.569425   \n",
       "min                                      6589.002000   \n",
       "25%                                      7056.520500   \n",
       "50%                                      8480.527000   \n",
       "75%                                      9132.132500   \n",
       "max                                      9797.103000   \n",
       "\n",
       "       Starboard Propeller Torque (Ts) [kN]  Port Propeller Torque (Tp) [kN]  \\\n",
       "count                          10000.000000                     10000.000000   \n",
       "mean                             225.957785                       225.957785   \n",
       "std                              199.737886                       199.737886   \n",
       "min                                5.304000                         5.304000   \n",
       "25%                               60.317000                        60.317000   \n",
       "50%                              175.264000                       175.264000   \n",
       "75%                              332.360000                       332.360000   \n",
       "max                              645.249000                       645.249000   \n",
       "\n",
       "       HP Turbine exit temperature (T48) [C]  \\\n",
       "count                           10000.000000   \n",
       "mean                              734.476178   \n",
       "std                               173.009157   \n",
       "min                               444.731000   \n",
       "25%                               589.841000   \n",
       "50%                               705.351000   \n",
       "75%                               833.154750   \n",
       "max                              1115.797000   \n",
       "\n",
       "       GT Compressor inlet air temperature (T1) [C]  \\\n",
       "count                                       10000.0   \n",
       "mean                                          288.0   \n",
       "std                                             0.0   \n",
       "min                                           288.0   \n",
       "25%                                           288.0   \n",
       "50%                                           288.0   \n",
       "75%                                           288.0   \n",
       "max                                           288.0   \n",
       "\n",
       "       GT Compressor outlet air temperature (T2) [C]  \\\n",
       "count                                   10000.000000   \n",
       "mean                                      645.748980   \n",
       "std                                        72.483036   \n",
       "min                                       540.999000   \n",
       "25%                                       577.980750   \n",
       "50%                                       636.800000   \n",
       "75%                                       693.656750   \n",
       "max                                       789.094000   \n",
       "\n",
       "       HP Turbine exit pressure (P48) [bar]  \\\n",
       "count                          10000.000000   \n",
       "mean                               2.345732   \n",
       "std                                1.081038   \n",
       "min                                1.093000   \n",
       "25%                                1.389000   \n",
       "50%                                2.082000   \n",
       "75%                                2.981000   \n",
       "max                                4.560000   \n",
       "\n",
       "       GT Compressor inlet air pressure (P1) [bar]  \\\n",
       "count                                 1.000000e+04   \n",
       "mean                                  9.980000e-01   \n",
       "std                                   2.236101e-13   \n",
       "min                                   9.980000e-01   \n",
       "25%                                   9.980000e-01   \n",
       "50%                                   9.980000e-01   \n",
       "75%                                   9.980000e-01   \n",
       "max                                   9.980000e-01   \n",
       "\n",
       "       GT Compressor outlet air pressure (P2) [bar]  \\\n",
       "count                                  10000.000000   \n",
       "mean                                      12.262597   \n",
       "std                                        5.320817   \n",
       "min                                        5.828000   \n",
       "25%                                        7.445000   \n",
       "50%                                       11.086000   \n",
       "75%                                       15.649000   \n",
       "max                                       23.140000   \n",
       "\n",
       "       Gas Turbine exhaust gas pressure (Pexh) [bar]  \\\n",
       "count                                   10000.000000   \n",
       "mean                                        1.029402   \n",
       "std                                         0.010353   \n",
       "min                                         1.019000   \n",
       "25%                                         1.020000   \n",
       "50%                                         1.026000   \n",
       "75%                                         1.036000   \n",
       "max                                         1.052000   \n",
       "\n",
       "       Turbine Injecton Control (TIC) [%]  Fuel flow (mf) [kg/s]  \n",
       "count                        10000.000000           10000.000000  \n",
       "mean                            33.480715               0.659100  \n",
       "std                             25.721725               0.504791  \n",
       "min                              0.000000               0.068000  \n",
       "25%                             13.534000               0.246000  \n",
       "50%                             25.249500               0.496000  \n",
       "75%                             44.500000               0.881000  \n",
       "max                             92.556000               1.832000  "
      ]
     },
     "execution_count": 10,
     "metadata": {},
     "output_type": "execute_result"
    }
   ],
   "source": [
    "df.describe() #Gives some description like the minimum, maximum, average etc values in each column."
   ]
  },
  {
   "cell_type": "code",
   "execution_count": 11,
   "metadata": {
    "colab": {
     "base_uri": "https://localhost:8080/"
    },
    "id": "dVBcUEFBcYf3",
    "outputId": "d782f2e6-6215-413b-902d-39b636e9d6d8"
   },
   "outputs": [
    {
     "data": {
      "text/plain": [
       "(10000, 19)"
      ]
     },
     "execution_count": 11,
     "metadata": {},
     "output_type": "execute_result"
    }
   ],
   "source": [
    "df=df.dropna(axis=0) #drops the rows which have missing values\n",
    "df.shape"
   ]
  },
  {
   "cell_type": "code",
   "execution_count": 12,
   "metadata": {
    "colab": {
     "base_uri": "https://localhost:8080/",
     "height": 508
    },
    "id": "74PUu9jGchN-",
    "outputId": "20656ff7-10d2-4b37-a191-eb36b34855fc",
    "scrolled": true
   },
   "outputs": [
    {
     "data": {
      "text/plain": [
       "<AxesSubplot:>"
      ]
     },
     "execution_count": 12,
     "metadata": {},
     "output_type": "execute_result"
    },
    {
     "data": {
      "image/png": "[encoded data removed]",
      "text/plain": [
       "<Figure size 432x288 with 2 Axes>"
      ]
     },
     "metadata": {
      "needs_background": "light"
     },
     "output_type": "display_data"
    }
   ],
   "source": [
    "#This is heat map or correlation map to get a visual representaion of the relation between variables.\n",
    "import seaborn as sns\n",
    "cor=df.corr()\n",
    "sns.heatmap(cor,xticklabels=cor.columns,yticklabels=cor.columns, cmap=sns.diverging_palette(220, 20, as_cmap=True))"
   ]
  },
  {
   "cell_type": "markdown",
   "metadata": {
    "id": "wfNL9OS-dC5k"
   },
   "source": [
    "From this map we can see that variables GT Compressor decay state coefficient and GT Turbine decay state coefficient are not highly correlated with the remaining variables. We find relevant feature by setting certain threshold in the below code."
   ]
  },
  {
   "cell_type": "code",
   "execution_count": null,
   "metadata": {
    "colab": {
     "base_uri": "https://localhost:8080/"
    },
    "id": "v2r_eCDOhqki",
    "outputId": "a04556e0-dc83-4295-e01a-18a29ee6e0cf"
   },
   "outputs": [],
   "source": []
  },
  {
   "cell_type": "code",
   "execution_count": 29,
   "metadata": {
    "id": "BcySvLU6fSCG"
   },
   "outputs": [],
   "source": [
    "# Import train_test_split function\n",
    "from sklearn.model_selection import train_test_split\n",
    "from sklearn.preprocessing import LabelEncoder\n",
    "X=df[['Gas Generator rate of revolutions (GGn) [rpm]', 'HP Turbine exit temperature (T48) [C]','GT Compressor outlet air temperature (T2) [C]','HP Turbine exit pressure (P48) [bar]','Gas Turbine exhaust gas pressure (Pexh) [bar]','Turbine Injecton Control (TIC) [%]']]\n",
    "y=df['GT Compressor decay state coefficient.']\n",
    "# Split dataset into training set and test set\n",
    "X_train, X_test, y_train, y_test = train_test_split(X,y, test_size=0.3,random_state=109) # 70% training and 30% test"
   ]
  },
  {
   "cell_type": "code",
   "execution_count": 30,
   "metadata": {
    "id": "XY1WUqvZumrz"
   },
   "outputs": [],
   "source": [
    "# creating instance of labelencoder and assigning categorical variables for the variable GT Compressor decay state coefficient.\n",
    "labelencoder = LabelEncoder()\n",
    "df['GT Compressor decay state coefficient.'] = labelencoder.fit_transform(df['GT Compressor decay state coefficient.'])\n"
   ]
  },
  {
   "cell_type": "code",
   "execution_count": 31,
   "metadata": {},
   "outputs": [],
   "source": [
    "#RANDOM FOREST CLASSIFIER"
   ]
  },
  {
   "cell_type": "code",
   "execution_count": 32,
   "metadata": {
    "colab": {
     "base_uri": "https://localhost:8080/"
    },
    "id": "Ee9tkOtwr2z8",
    "outputId": "055d6e78-008f-4cc7-8832-3ac0c59cdee0"
   },
   "outputs": [
    {
     "data": {
      "text/plain": [
       "array([23,  3, 36, ..., 19,  0,  9], dtype=int64)"
      ]
     },
     "execution_count": 32,
     "metadata": {},
     "output_type": "execute_result"
    }
   ],
   "source": [
    "from sklearn.ensemble import RandomForestClassifier\n",
    "\n",
    "#Create a Gaussian Classifier\n",
    "clf=RandomForestClassifier(n_estimators=100)\n",
    "\n",
    "#Train the model using the training sets y_pred=clf.predict(X_test)\n",
    "clf.fit(X_train,y_train)\n",
    "\n",
    "y_pred=clf.predict(X_test)\n",
    "y_pred"
   ]
  },
  {
   "cell_type": "code",
   "execution_count": 33,
   "metadata": {
    "colab": {
     "base_uri": "https://localhost:8080/"
    },
    "id": "tJvipHoov0BM",
    "outputId": "5f4fc031-0a13-4fb2-dc53-2d5c9db9d85a"
   },
   "outputs": [
    {
     "name": "stdout",
     "output_type": "stream",
     "text": [
      "Accuracy: 0.15566666666666668\n"
     ]
    }
   ],
   "source": [
    "#Import scikit-learn metrics module for accuracy calculation\n",
    "from sklearn import metrics\n",
    "\n",
    "# Model Accuracy: how often is the classifier correct?\n",
    "print(\"Accuracy:\",metrics.accuracy_score(y_test, y_pred))"
   ]
  },
  {
   "cell_type": "code",
   "execution_count": 28,
   "metadata": {
    "colab": {
     "base_uri": "https://localhost:8080/"
    },
    "id": "mpe0TmnxNkPf",
    "outputId": "3ea6058a-843f-4d55-d92a-04667caf85f9"
   },
   "outputs": [],
   "source": [
    "# SUPPORT VECTOR MACHINE"
   ]
  },
  {
   "cell_type": "code",
   "execution_count": null,
   "metadata": {
    "id": "zavwskjqyFuY"
   },
   "outputs": [],
   "source": [
    "from sklearn import svm\n",
    "\n",
    "#Create a svm Classifier\n",
    "clf = svm.SVC(kernel='linear') # Linear Kernel\n",
    "\n",
    "#Train the model using the training sets\n",
    "clf.fit(X_train, y_train)\n",
    "\n",
    "#Predict the response for test dataset\n",
    "y_pred = clf.predict(X_test)"
   ]
  },
  {
   "cell_type": "code",
   "execution_count": null,
   "metadata": {
    "colab": {
     "base_uri": "https://localhost:8080/"
    },
    "id": "6qqfAfmzyLGk",
    "outputId": "ac346c73-f25b-4078-b68a-f3fa1d9dfc7d"
   },
   "outputs": [
    {
     "name": "stdout",
     "output_type": "stream",
     "text": [
      "Accuracy: 0.027333333333333334\n"
     ]
    }
   ],
   "source": [
    "#Import scikit-learn metrics module for accuracy calculation\n",
    "from sklearn import metrics\n",
    "\n",
    "# Model Accuracy: how often is the classifier correct?\n",
    "print(\"Accuracy:\",metrics.accuracy_score(y_test, y_pred))"
   ]
  },
  {
   "cell_type": "code",
   "execution_count": 8,
   "metadata": {},
   "outputs": [],
   "source": [
    "#GRADIENT BOOSTING"
   ]
  },
  {
   "cell_type": "code",
   "execution_count": 35,
   "metadata": {
    "id": "Ojg2lFlgSE8w"
   },
   "outputs": [],
   "source": [
    "# Import train_test_split function\n",
    "from sklearn.model_selection import train_test_split\n",
    "from sklearn.preprocessing import LabelEncoder\n",
    "from sklearn.datasets import make_classification\n",
    "from sklearn.ensemble import GradientBoostingClassifier\n",
    "X=df[['Gas Generator rate of revolutions (GGn) [rpm]', 'HP Turbine exit temperature (T48) [C]','GT Compressor outlet air temperature (T2) [C]','HP Turbine exit pressure (P48) [bar]','Gas Turbine exhaust gas pressure (Pexh) [bar]','Turbine Injecton Control (TIC) [%]']]\n",
    "y=df['GT Compressor decay state coefficient.']\n",
    "# Split dataset into training set and test set\n",
    "X_train, X_test, y_train, y_test = train_test_split(X,y, test_size=0.3,random_state=109) # 70% training and 30% test"
   ]
  },
  {
   "cell_type": "code",
   "execution_count": null,
   "metadata": {
    "colab": {
     "base_uri": "https://localhost:8080/"
    },
    "id": "Izf4V46Kyf-Q",
    "outputId": "5c392120-4dd1-42c9-c495-3347a20abc80"
   },
   "outputs": [
    {
     "data": {
      "text/plain": [
       "0.07233333333333333"
      ]
     },
     "execution_count": 19,
     "metadata": {
      "tags": []
     },
     "output_type": "execute_result"
    }
   ],
   "source": [
    "\n",
    "clf = GradientBoostingClassifier(random_state=0)\n",
    "clf.fit(X_train, y_train)\n",
    "GradientBoostingClassifier(random_state=0)\n",
    "clf.score(X_test, y_test)"
   ]
  },
  {
   "cell_type": "code",
   "execution_count": null,
   "metadata": {
    "id": "iHnEmZA5YQ40"
   },
   "outputs": [],
   "source": [
    "from sklearn.ensemble import AdaBoostClassifier\n",
    "abc = AdaBoostClassifier(n_estimators=50,\n",
    "                         learning_rate=1)\n",
    "# Train Adaboost Classifer\n",
    "model = abc.fit(X_train, y_train)\n",
    "\n",
    "#Predict the response for test dataset\n",
    "y_pred = model.predict(X_test)"
   ]
  },
  {
   "cell_type": "code",
   "execution_count": null,
   "metadata": {
    "colab": {
     "base_uri": "https://localhost:8080/"
    },
    "id": "0Ds1yihOYa2r",
    "outputId": "e59f1af5-db5b-4a6a-95e4-a3a6ff7af7c3"
   },
   "outputs": [
    {
     "name": "stdout",
     "output_type": "stream",
     "text": [
      "Accuracy: 0.030333333333333334\n"
     ]
    }
   ],
   "source": [
    "print(\"Accuracy:\",metrics.accuracy_score(y_test, y_pred))"
   ]
  },
  {
   "cell_type": "code",
   "execution_count": 9,
   "metadata": {},
   "outputs": [],
   "source": [
    "#ADABOOST"
   ]
  },
  {
   "cell_type": "code",
   "execution_count": null,
   "metadata": {
    "colab": {
     "background_save": true
    },
    "id": "uc688i4iZQ4a",
    "outputId": "9eebce01-fbd3-4b47-c1ed-687428e86c6a"
   },
   "outputs": [
    {
     "name": "stdout",
     "output_type": "stream",
     "text": [
      "Accuracy: 0.017\n"
     ]
    }
   ],
   "source": [
    "from sklearn.ensemble import AdaBoostClassifier\n",
    "\n",
    "# Import Support Vector Classifier\n",
    "from sklearn.svm import SVC\n",
    "#Import scikit-learn metrics module for accuracy calculation\n",
    "from sklearn import metrics\n",
    "svc=SVC(probability=True, kernel='linear')\n",
    "\n",
    "# Create adaboost classifer object\n",
    "abc =AdaBoostClassifier(n_estimators=50, base_estimator=svc,learning_rate=1)\n",
    "\n",
    "# Train Adaboost Classifer\n",
    "model = abc.fit(X_train, y_train)\n",
    "\n",
    "#Predict the response for test dataset\n",
    "y_pred = model.predict(X_test)\n",
    "\n",
    "\n",
    "# Model Accuracy, how often is the classifier correct?\n",
    "print(\"Accuracy:\",metrics.accuracy_score(y_test, y_pred))"
   ]
  },
  {
   "cell_type": "markdown",
   "metadata": {
    "id": "mpYIp-cf0VPO"
   },
   "source": []
  },
  {
   "cell_type": "code",
   "execution_count": null,
   "metadata": {},
   "outputs": [],
   "source": [
    "#K-NN classifier"
   ]
  },
  {
   "cell_type": "code",
   "execution_count": 34,
   "metadata": {},
   "outputs": [],
   "source": [
    "#feature Scaling  \n",
    "from sklearn.preprocessing import StandardScaler    \n",
    "st_x= StandardScaler()    \n",
    "x_train= st_x.fit_transform(X_train)    \n",
    "x_test= st_x.transform(X_test) "
   ]
  },
  {
   "cell_type": "code",
   "execution_count": 35,
   "metadata": {},
   "outputs": [
    {
     "data": {
      "text/plain": [
       "KNeighborsClassifier(algorithm='auto', leaf_size=30, metric='minkowski',\n",
       "                     metric_params=None, n_jobs=None, n_neighbors=5, p=2,\n",
       "                     weights='uniform')"
      ]
     },
     "execution_count": 35,
     "metadata": {},
     "output_type": "execute_result"
    }
   ],
   "source": [
    "#Fitting K-NN classifier to the training set  \n",
    "from sklearn.neighbors import KNeighborsClassifier  \n",
    "classifier= KNeighborsClassifier(n_neighbors=5, metric='minkowski', p=2 )  \n",
    "classifier.fit(x_train, y_train)  "
   ]
  },
  {
   "cell_type": "code",
   "execution_count": 36,
   "metadata": {},
   "outputs": [],
   "source": [
    "#Predicting the test set result  \n",
    "y_pred= classifier.predict(x_test)  "
   ]
  },
  {
   "cell_type": "code",
   "execution_count": 47,
   "metadata": {},
   "outputs": [
    {
     "name": "stdout",
     "output_type": "stream",
     "text": [
      "Accuracy: 0.127\n"
     ]
    }
   ],
   "source": [
    "print(\"Accuracy:\",metrics.accuracy_score(y_test, y_pred))"
   ]
  },
  {
   "cell_type": "code",
   "execution_count": 46,
   "metadata": {},
   "outputs": [
    {
     "data": {
      "text/plain": [
       "'              precision    recall  f1-score   support\\n\\n           0       0.17      0.30      0.22        46\\n           1       0.10      0.13      0.11        63\\n           2       0.09      0.12      0.10        60\\n           3       0.18      0.20      0.19        76\\n           4       0.16      0.16      0.16        70\\n           5       0.12      0.10      0.11        71\\n           6       0.03      0.04      0.03        57\\n           7       0.16      0.16      0.16        56\\n           8       0.16      0.15      0.15        60\\n           9       0.12      0.16      0.13        51\\n          10       0.09      0.11      0.10        53\\n          11       0.08      0.09      0.09        58\\n          12       0.10      0.09      0.09        58\\n          13       0.19      0.14      0.16        70\\n          14       0.14      0.12      0.13        57\\n          15       0.12      0.17      0.14        42\\n          16       0.14      0.15      0.14        53\\n          17       0.15      0.12      0.13        68\\n          18       0.12      0.18      0.14        50\\n          19       0.09      0.10      0.09        61\\n          20       0.08      0.06      0.07        68\\n          21       0.15      0.11      0.13        61\\n          22       0.15      0.15      0.15        55\\n          23       0.11      0.11      0.11        54\\n          24       0.12      0.18      0.14        56\\n          25       0.06      0.06      0.06        54\\n          26       0.16      0.12      0.14        57\\n          27       0.04      0.03      0.03        70\\n          28       0.14      0.18      0.16        55\\n          29       0.15      0.15      0.15        59\\n          30       0.08      0.09      0.09        55\\n          31       0.07      0.06      0.07        62\\n          32       0.09      0.12      0.10        52\\n          33       0.10      0.09      0.09        68\\n          34       0.10      0.08      0.09        65\\n          35       0.11      0.14      0.12        59\\n          36       0.20      0.18      0.19        55\\n          37       0.08      0.07      0.07        54\\n          38       0.10      0.10      0.10        58\\n          39       0.10      0.08      0.09        59\\n          40       0.12      0.13      0.13        46\\n          41       0.13      0.11      0.12        63\\n          42       0.18      0.17      0.17        58\\n          43       0.19      0.20      0.19        54\\n          44       0.09      0.12      0.10        52\\n          45       0.17      0.12      0.14        69\\n          46       0.19      0.17      0.18        58\\n          47       0.21      0.16      0.18        63\\n          48       0.18      0.22      0.20        60\\n          49       0.22      0.17      0.19        63\\n          50       0.17      0.05      0.08        58\\n\\n    accuracy                           0.13      3000\\n   macro avg       0.13      0.13      0.13      3000\\nweighted avg       0.13      0.13      0.13      3000\\n'"
      ]
     },
     "execution_count": 46,
     "metadata": {},
     "output_type": "execute_result"
    }
   ],
   "source": [
    "from sklearn.metrics import classification_report\n",
    "classification_report(y_test, y_pred)"
   ]
  },
  {
   "cell_type": "code",
   "execution_count": 48,
   "metadata": {},
   "outputs": [
    {
     "data": {
      "text/plain": [
       "' The accuracy of KNN model (K-nearest neighbhour)  is 0.127.'"
      ]
     },
     "execution_count": 48,
     "metadata": {},
     "output_type": "execute_result"
    }
   ],
   "source": [
    "''' The accuracy of KNN model (K-nearest neighbhour) is 0.127. The classification report gives the details of model precision,\n",
    "recall, f1-score.'''"
   ]
  },
  {
   "cell_type": "code",
   "execution_count": null,
   "metadata": {},
   "outputs": [],
   "source": [
    "'''The classifiers used in this study is random forest, adaboost, gradient decent, support vector machine, KNN. \n",
    "Random forest classifier shows highest accuracy compared to other models with an accuracy of 15.3%.\n",
    "The model accuracy has to be increased by increasing the size of dataset for better prediction.'''"
   ]
  }
 ],
 "metadata": {
  "colab": {
   "collapsed_sections": [],
   "name": "mechademy2.ipynb",
   "provenance": []
  },
  "kernelspec": {
   "display_name": "Python 3",
   "language": "python",
   "name": "python3"
  },
  "language_info": {
   "codemirror_mode": {
    "name": "ipython",
    "version": 3
   },
   "file_extension": ".py",
   "mimetype": "text/x-python",
   "name": "python",
   "nbconvert_exporter": "python",
   "pygments_lexer": "ipython3",
   "version": "3.7.4"
  }
 },
 "nbformat": 4,
 "nbformat_minor": 1
}
