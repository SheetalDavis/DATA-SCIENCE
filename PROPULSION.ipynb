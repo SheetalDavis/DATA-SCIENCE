{
 "cells": [
  {
   "cell_type": "markdown",
   "metadata": {
    "id": "Cy4v3I-00GP4"
   },
   "source": [
    "# **PROPULSION DATASET :**\n",
    "\n",
    "\n",
    "    "
   ]
  },
  {
   "cell_type": "code",
   "execution_count": 14,
   "metadata": {
    "id": "Q8vYWdXna91U"
   },
   "outputs": [
    {
     "name": "stderr",
     "output_type": "stream",
     "text": [
      "C:\\Users\\Sheetal Davis\\Anaconda3\\lib\\site-packages\\sklearn\\externals\\joblib\\__init__.py:15: DeprecationWarning: sklearn.externals.joblib is deprecated in 0.21 and will be removed in 0.23. Please import this functionality directly from joblib, which can be installed with: pip install joblib. If this warning is raised when loading pickled models, you may need to re-serialize those models with scikit-learn 0.21+.\n",
      "  warnings.warn(msg, category=DeprecationWarning)\n"
     ]
    }
   ],
   "source": [
    "import pandas as pd\n",
    "#load matplotlib\n",
    "import matplotlib.pyplot as plt\n",
    "%matplotlib inline\n",
    "#oad skearn\n",
    "from sklearn.model_selection import train_test_split\n",
    "from sklearn.preprocessing import StandardScaler\n",
    "from sklearn.ensemble import RandomForestClassifier\n",
    "from sklearn.metrics import confusion_matrix\n",
    "from sklearn.externals import joblib"
   ]
  },
  {
   "cell_type": "code",
   "execution_count": 12,
   "metadata": {
    "colab": {
     "base_uri": "https://localhost:8080/",
     "height": 326
    },
    "id": "tN0qpsbFbb6V",
    "outputId": "67e50d81-0d58-4029-f35a-72fb81d95a28"
   },
   "outputs": [
    {
     "data": {
      "text/html": [
       "<div>\n",
       "<style scoped>\n",
       "    .dataframe tbody tr th:only-of-type {\n",
       "        vertical-align: middle;\n",
       "    }\n",
       "\n",
       "    .dataframe tbody tr th {\n",
       "        vertical-align: top;\n",
       "    }\n",
       "\n",
       "    .dataframe thead th {\n",
       "        text-align: right;\n",
       "    }\n",
       "</style>\n",
       "<table border=\"1\" class=\"dataframe\">\n",
       "  <thead>\n",
       "    <tr style=\"text-align: right;\">\n",
       "      <th></th>\n",
       "      <th>Unnamed: 0</th>\n",
       "      <th>Lever position (lp) [ ]</th>\n",
       "      <th>Ship speed (v) [knots]</th>\n",
       "      <th>Gas Turbine shaft torque (GTT) [kN m]</th>\n",
       "      <th>Gas Turbine rate of revolutions (GTn) [rpm]</th>\n",
       "      <th>Gas Generator rate of revolutions (GGn) [rpm]</th>\n",
       "      <th>Starboard Propeller Torque (Ts) [kN]</th>\n",
       "      <th>Port Propeller Torque (Tp) [kN]</th>\n",
       "      <th>HP Turbine exit temperature (T48) [C]</th>\n",
       "      <th>GT Compressor inlet air temperature (T1) [C]</th>\n",
       "      <th>GT Compressor outlet air temperature (T2) [C]</th>\n",
       "      <th>HP Turbine exit pressure (P48) [bar]</th>\n",
       "      <th>GT Compressor inlet air pressure (P1) [bar]</th>\n",
       "      <th>GT Compressor outlet air pressure (P2) [bar]</th>\n",
       "      <th>Gas Turbine exhaust gas pressure (Pexh) [bar]</th>\n",
       "      <th>Turbine Injecton Control (TIC) [%]</th>\n",
       "      <th>Fuel flow (mf) [kg/s]</th>\n",
       "      <th>GT Compressor decay state coefficient.</th>\n",
       "      <th>GT Turbine decay state coefficient.</th>\n",
       "    </tr>\n",
       "  </thead>\n",
       "  <tbody>\n",
       "    <tr>\n",
       "      <th>0</th>\n",
       "      <td>0</td>\n",
       "      <td>9.300</td>\n",
       "      <td>27</td>\n",
       "      <td>72762.205</td>\n",
       "      <td>3560.393</td>\n",
       "      <td>9753.812</td>\n",
       "      <td>644.806</td>\n",
       "      <td>644.806</td>\n",
       "      <td>1086.583</td>\n",
       "      <td>288</td>\n",
       "      <td>780.304</td>\n",
       "      <td>4.523</td>\n",
       "      <td>0.998</td>\n",
       "      <td>22.879</td>\n",
       "      <td>1.050</td>\n",
       "      <td>90.435</td>\n",
       "      <td>1.790</td>\n",
       "      <td>0.973</td>\n",
       "      <td>0.978</td>\n",
       "    </tr>\n",
       "    <tr>\n",
       "      <th>1</th>\n",
       "      <td>1</td>\n",
       "      <td>6.175</td>\n",
       "      <td>18</td>\n",
       "      <td>29760.552</td>\n",
       "      <td>2306.825</td>\n",
       "      <td>8780.012</td>\n",
       "      <td>246.011</td>\n",
       "      <td>246.011</td>\n",
       "      <td>776.921</td>\n",
       "      <td>288</td>\n",
       "      <td>665.511</td>\n",
       "      <td>2.518</td>\n",
       "      <td>0.998</td>\n",
       "      <td>13.438</td>\n",
       "      <td>1.030</td>\n",
       "      <td>34.596</td>\n",
       "      <td>0.685</td>\n",
       "      <td>0.995</td>\n",
       "      <td>0.975</td>\n",
       "    </tr>\n",
       "    <tr>\n",
       "      <th>2</th>\n",
       "      <td>2</td>\n",
       "      <td>3.144</td>\n",
       "      <td>9</td>\n",
       "      <td>8375.774</td>\n",
       "      <td>1386.739</td>\n",
       "      <td>7051.621</td>\n",
       "      <td>60.318</td>\n",
       "      <td>60.318</td>\n",
       "      <td>589.764</td>\n",
       "      <td>288</td>\n",
       "      <td>580.587</td>\n",
       "      <td>1.392</td>\n",
       "      <td>0.998</td>\n",
       "      <td>7.566</td>\n",
       "      <td>1.020</td>\n",
       "      <td>12.477</td>\n",
       "      <td>0.247</td>\n",
       "      <td>0.980</td>\n",
       "      <td>0.978</td>\n",
       "    </tr>\n",
       "    <tr>\n",
       "      <th>3</th>\n",
       "      <td>3</td>\n",
       "      <td>3.144</td>\n",
       "      <td>9</td>\n",
       "      <td>8377.589</td>\n",
       "      <td>1386.748</td>\n",
       "      <td>7098.469</td>\n",
       "      <td>60.339</td>\n",
       "      <td>60.339</td>\n",
       "      <td>570.651</td>\n",
       "      <td>288</td>\n",
       "      <td>576.565</td>\n",
       "      <td>1.390</td>\n",
       "      <td>0.998</td>\n",
       "      <td>7.409</td>\n",
       "      <td>1.021</td>\n",
       "      <td>11.678</td>\n",
       "      <td>0.231</td>\n",
       "      <td>0.984</td>\n",
       "      <td>1.000</td>\n",
       "    </tr>\n",
       "    <tr>\n",
       "      <th>4</th>\n",
       "      <td>4</td>\n",
       "      <td>6.175</td>\n",
       "      <td>18</td>\n",
       "      <td>29761.091</td>\n",
       "      <td>2306.825</td>\n",
       "      <td>8782.024</td>\n",
       "      <td>246.021</td>\n",
       "      <td>246.021</td>\n",
       "      <td>769.855</td>\n",
       "      <td>288</td>\n",
       "      <td>663.682</td>\n",
       "      <td>2.518</td>\n",
       "      <td>0.998</td>\n",
       "      <td>13.374</td>\n",
       "      <td>1.031</td>\n",
       "      <td>34.154</td>\n",
       "      <td>0.676</td>\n",
       "      <td>0.998</td>\n",
       "      <td>0.980</td>\n",
       "    </tr>\n",
       "  </tbody>\n",
       "</table>\n",
       "</div>"
      ],
      "text/plain": [
       "   Unnamed: 0  Lever position (lp) [ ]  Ship speed (v) [knots]  \\\n",
       "0           0                    9.300                      27   \n",
       "1           1                    6.175                      18   \n",
       "2           2                    3.144                       9   \n",
       "3           3                    3.144                       9   \n",
       "4           4                    6.175                      18   \n",
       "\n",
       "   Gas Turbine shaft torque (GTT) [kN m]  \\\n",
       "0                              72762.205   \n",
       "1                              29760.552   \n",
       "2                               8375.774   \n",
       "3                               8377.589   \n",
       "4                              29761.091   \n",
       "\n",
       "   Gas Turbine rate of revolutions (GTn) [rpm]  \\\n",
       "0                                     3560.393   \n",
       "1                                     2306.825   \n",
       "2                                     1386.739   \n",
       "3                                     1386.748   \n",
       "4                                     2306.825   \n",
       "\n",
       "   Gas Generator rate of revolutions (GGn) [rpm]  \\\n",
       "0                                       9753.812   \n",
       "1                                       8780.012   \n",
       "2                                       7051.621   \n",
       "3                                       7098.469   \n",
       "4                                       8782.024   \n",
       "\n",
       "   Starboard Propeller Torque (Ts) [kN]  Port Propeller Torque (Tp) [kN]  \\\n",
       "0                               644.806                          644.806   \n",
       "1                               246.011                          246.011   \n",
       "2                                60.318                           60.318   \n",
       "3                                60.339                           60.339   \n",
       "4                               246.021                          246.021   \n",
       "\n",
       "   HP Turbine exit temperature (T48) [C]  \\\n",
       "0                               1086.583   \n",
       "1                                776.921   \n",
       "2                                589.764   \n",
       "3                                570.651   \n",
       "4                                769.855   \n",
       "\n",
       "   GT Compressor inlet air temperature (T1) [C]  \\\n",
       "0                                           288   \n",
       "1                                           288   \n",
       "2                                           288   \n",
       "3                                           288   \n",
       "4                                           288   \n",
       "\n",
       "   GT Compressor outlet air temperature (T2) [C]  \\\n",
       "0                                        780.304   \n",
       "1                                        665.511   \n",
       "2                                        580.587   \n",
       "3                                        576.565   \n",
       "4                                        663.682   \n",
       "\n",
       "   HP Turbine exit pressure (P48) [bar]  \\\n",
       "0                                 4.523   \n",
       "1                                 2.518   \n",
       "2                                 1.392   \n",
       "3                                 1.390   \n",
       "4                                 2.518   \n",
       "\n",
       "   GT Compressor inlet air pressure (P1) [bar]  \\\n",
       "0                                        0.998   \n",
       "1                                        0.998   \n",
       "2                                        0.998   \n",
       "3                                        0.998   \n",
       "4                                        0.998   \n",
       "\n",
       "   GT Compressor outlet air pressure (P2) [bar]  \\\n",
       "0                                        22.879   \n",
       "1                                        13.438   \n",
       "2                                         7.566   \n",
       "3                                         7.409   \n",
       "4                                        13.374   \n",
       "\n",
       "   Gas Turbine exhaust gas pressure (Pexh) [bar]  \\\n",
       "0                                          1.050   \n",
       "1                                          1.030   \n",
       "2                                          1.020   \n",
       "3                                          1.021   \n",
       "4                                          1.031   \n",
       "\n",
       "   Turbine Injecton Control (TIC) [%]  Fuel flow (mf) [kg/s]  \\\n",
       "0                              90.435                  1.790   \n",
       "1                              34.596                  0.685   \n",
       "2                              12.477                  0.247   \n",
       "3                              11.678                  0.231   \n",
       "4                              34.154                  0.676   \n",
       "\n",
       "   GT Compressor decay state coefficient.  GT Turbine decay state coefficient.  \n",
       "0                                   0.973                                0.978  \n",
       "1                                   0.995                                0.975  \n",
       "2                                   0.980                                0.978  \n",
       "3                                   0.984                                1.000  \n",
       "4                                   0.998                                0.980  "
      ]
     },
     "execution_count": 12,
     "metadata": {},
     "output_type": "execute_result"
    }
   ],
   "source": [
    "propulsion = pd.read_csv('propulsion.csv')\n",
    "df=pd.DataFrame(propulsion)\n",
    "df.head() #.head() prints the first five rows of the dataset."
   ]
  },
  {
   "cell_type": "code",
   "execution_count": 5,
   "metadata": {},
   "outputs": [],
   "source": [
    "#EXPLORATORY DATA ANALYSIS"
   ]
  },
  {
   "cell_type": "code",
   "execution_count": null,
   "metadata": {
    "colab": {
     "base_uri": "https://localhost:8080/"
    },
    "id": "sZ3eWzF9bqXa",
    "outputId": "2b993d3a-43b4-4504-982e-dcada86c3a09"
   },
   "outputs": [
    {
     "data": {
      "text/plain": [
       "(10000, 19)"
      ]
     },
     "execution_count": 6,
     "metadata": {
      "tags": []
     },
     "output_type": "execute_result"
    }
   ],
   "source": [
    "df.shape #.shape gives the the number of rows by number of columns value. "
   ]
  },
  {
   "cell_type": "code",
   "execution_count": null,
   "metadata": {},
   "outputs": [],
   "source": [
    "#This data set have 10000 rows and 19 columns"
   ]
  },
  {
   "cell_type": "code",
   "execution_count": null,
   "metadata": {
    "colab": {
     "base_uri": "https://localhost:8080/"
    },
    "id": "Qefe2MRMbtJM",
    "outputId": "44ecd8f3-e888-47d5-8b71-4b7ceb6b855d"
   },
   "outputs": [
    {
     "data": {
      "text/plain": [
       "Index(['Unnamed: 0', 'Lever position (lp) [ ]', 'Ship speed (v) [knots]',\n",
       "       'Gas Turbine shaft torque (GTT) [kN m]',\n",
       "       'Gas Turbine rate of revolutions (GTn) [rpm]',\n",
       "       'Gas Generator rate of revolutions (GGn) [rpm]',\n",
       "       'Starboard Propeller Torque (Ts) [kN]',\n",
       "       'Port Propeller Torque (Tp) [kN]',\n",
       "       'HP Turbine exit temperature (T48) [C]',\n",
       "       'GT Compressor inlet air temperature (T1) [C]',\n",
       "       'GT Compressor outlet air temperature (T2) [C]',\n",
       "       'HP Turbine exit pressure (P48) [bar]',\n",
       "       'GT Compressor inlet air pressure (P1) [bar]',\n",
       "       'GT Compressor outlet air pressure (P2) [bar]',\n",
       "       'Gas Turbine exhaust gas pressure (Pexh) [bar]',\n",
       "       'Turbine Injecton Control (TIC) [%]', 'Fuel flow (mf) [kg/s]',\n",
       "       'GT Compressor decay state coefficient.',\n",
       "       'GT Turbine decay state coefficient.'],\n",
       "      dtype='object')"
      ]
     },
     "execution_count": 7,
     "metadata": {
      "tags": []
     },
     "output_type": "execute_result"
    }
   ],
   "source": [
    "df.columns # .columns give the name of all the columns in the data set "
   ]
  },
  {
   "cell_type": "code",
   "execution_count": null,
   "metadata": {
    "id": "mDUn0be7MLNo"
   },
   "outputs": [],
   "source": [
    "#.astype converts data with float datatype to category\n",
    "df['GT Turbine decay state coefficient.']=df['GT Turbine decay state coefficient.'].astype('category')\n",
    "df['GT Compressor decay state coefficient.']=df['GT Compressor decay state coefficient.'].astype('category')"
   ]
  },
  {
   "cell_type": "code",
   "execution_count": null,
   "metadata": {
    "colab": {
     "base_uri": "https://localhost:8080/"
    },
    "id": "IakGzW_mbvGo",
    "outputId": "21f93890-2f1a-408e-f48f-4fe4d86e6139"
   },
   "outputs": [
    {
     "name": "stdout",
     "output_type": "stream",
     "text": [
      "Unnamed: 0                                          int64\n",
      "Lever position (lp) [ ]                           float64\n",
      "Ship speed (v) [knots]                              int64\n",
      "Gas Turbine shaft torque (GTT) [kN m]             float64\n",
      "Gas Turbine rate of revolutions (GTn) [rpm]       float64\n",
      "Gas Generator rate of revolutions (GGn) [rpm]     float64\n",
      "Starboard Propeller Torque (Ts) [kN]              float64\n",
      "Port Propeller Torque (Tp) [kN]                   float64\n",
      "HP Turbine exit temperature (T48) [C]             float64\n",
      "GT Compressor inlet air temperature (T1) [C]        int64\n",
      "GT Compressor outlet air temperature (T2) [C]     float64\n",
      "HP Turbine exit pressure (P48) [bar]              float64\n",
      "GT Compressor inlet air pressure (P1) [bar]       float64\n",
      "GT Compressor outlet air pressure (P2) [bar]      float64\n",
      "Gas Turbine exhaust gas pressure (Pexh) [bar]     float64\n",
      "Turbine Injecton Control (TIC) [%]                float64\n",
      "Fuel flow (mf) [kg/s]                             float64\n",
      "GT Compressor decay state coefficient.           category\n",
      "GT Turbine decay state coefficient.              category\n",
      "dtype: object\n"
     ]
    }
   ],
   "source": [
    "print (df.dtypes) #.dtypes give the data type of all columns in the data set."
   ]
  },
  {
   "cell_type": "code",
   "execution_count": null,
   "metadata": {
    "colab": {
     "base_uri": "https://localhost:8080/"
    },
    "id": "YixUXryqcGjF",
    "outputId": "f1e34342-82b0-44d1-eae1-c3bf47dec758"
   },
   "outputs": [
    {
     "data": {
      "text/plain": [
       "Unnamed: 0                                       10000\n",
       "Lever position (lp) [ ]                              9\n",
       "Ship speed (v) [knots]                               9\n",
       "Gas Turbine shaft torque (GTT) [kN m]             9634\n",
       "Gas Turbine rate of revolutions (GTn) [rpm]       3422\n",
       "Gas Generator rate of revolutions (GGn) [rpm]     9926\n",
       "Starboard Propeller Torque (Ts) [kN]              3880\n",
       "Port Propeller Torque (Tp) [kN]                   3880\n",
       "HP Turbine exit temperature (T48) [C]             9890\n",
       "GT Compressor inlet air temperature (T1) [C]         1\n",
       "GT Compressor outlet air temperature (T2) [C]     9694\n",
       "HP Turbine exit pressure (P48) [bar]               523\n",
       "GT Compressor inlet air pressure (P1) [bar]          1\n",
       "GT Compressor outlet air pressure (P2) [bar]      4000\n",
       "Gas Turbine exhaust gas pressure (Pexh) [bar]       19\n",
       "Turbine Injecton Control (TIC) [%]                7403\n",
       "Fuel flow (mf) [kg/s]                              694\n",
       "GT Compressor decay state coefficient.              51\n",
       "GT Turbine decay state coefficient.                 26\n",
       "dtype: int64"
      ]
     },
     "execution_count": 9,
     "metadata": {
      "tags": []
     },
     "output_type": "execute_result"
    }
   ],
   "source": [
    "df.nunique(axis=0) #unique value in each attribute. "
   ]
  },
  {
   "cell_type": "code",
   "execution_count": null,
   "metadata": {
    "colab": {
     "base_uri": "https://localhost:8080/",
     "height": 385
    },
    "id": "KKH1PSF_cNsS",
    "outputId": "37023af0-79f2-494c-ee4d-9b0f924746ef"
   },
   "outputs": [
    {
     "data": {
      "text/html": [
       "<div>\n",
       "<style scoped>\n",
       "    .dataframe tbody tr th:only-of-type {\n",
       "        vertical-align: middle;\n",
       "    }\n",
       "\n",
       "    .dataframe tbody tr th {\n",
       "        vertical-align: top;\n",
       "    }\n",
       "\n",
       "    .dataframe thead th {\n",
       "        text-align: right;\n",
       "    }\n",
       "</style>\n",
       "<table border=\"1\" class=\"dataframe\">\n",
       "  <thead>\n",
       "    <tr style=\"text-align: right;\">\n",
       "      <th></th>\n",
       "      <th>Unnamed: 0</th>\n",
       "      <th>Lever position (lp) [ ]</th>\n",
       "      <th>Ship speed (v) [knots]</th>\n",
       "      <th>Gas Turbine shaft torque (GTT) [kN m]</th>\n",
       "      <th>Gas Turbine rate of revolutions (GTn) [rpm]</th>\n",
       "      <th>Gas Generator rate of revolutions (GGn) [rpm]</th>\n",
       "      <th>Starboard Propeller Torque (Ts) [kN]</th>\n",
       "      <th>Port Propeller Torque (Tp) [kN]</th>\n",
       "      <th>HP Turbine exit temperature (T48) [C]</th>\n",
       "      <th>GT Compressor inlet air temperature (T1) [C]</th>\n",
       "      <th>GT Compressor outlet air temperature (T2) [C]</th>\n",
       "      <th>HP Turbine exit pressure (P48) [bar]</th>\n",
       "      <th>GT Compressor inlet air pressure (P1) [bar]</th>\n",
       "      <th>GT Compressor outlet air pressure (P2) [bar]</th>\n",
       "      <th>Gas Turbine exhaust gas pressure (Pexh) [bar]</th>\n",
       "      <th>Turbine Injecton Control (TIC) [%]</th>\n",
       "      <th>Fuel flow (mf) [kg/s]</th>\n",
       "      <th>GT Compressor decay state coefficient.</th>\n",
       "      <th>GT Turbine decay state coefficient.</th>\n",
       "    </tr>\n",
       "  </thead>\n",
       "  <tbody>\n",
       "    <tr>\n",
       "      <th>count</th>\n",
       "      <td>10000.00000</td>\n",
       "      <td>10000.000000</td>\n",
       "      <td>10000.000000</td>\n",
       "      <td>10000.000000</td>\n",
       "      <td>10000.000000</td>\n",
       "      <td>10000.000000</td>\n",
       "      <td>10000.000000</td>\n",
       "      <td>10000.000000</td>\n",
       "      <td>10000.000000</td>\n",
       "      <td>10000.0</td>\n",
       "      <td>10000.000000</td>\n",
       "      <td>10000.000000</td>\n",
       "      <td>1.000000e+04</td>\n",
       "      <td>10000.000000</td>\n",
       "      <td>10000.000000</td>\n",
       "      <td>10000.000000</td>\n",
       "      <td>10000.000000</td>\n",
       "      <td>10000.000000</td>\n",
       "      <td>10000.000000</td>\n",
       "    </tr>\n",
       "    <tr>\n",
       "      <th>mean</th>\n",
       "      <td>4999.50000</td>\n",
       "      <td>5.150075</td>\n",
       "      <td>14.951400</td>\n",
       "      <td>27100.647714</td>\n",
       "      <td>2131.151788</td>\n",
       "      <td>8194.182366</td>\n",
       "      <td>225.957785</td>\n",
       "      <td>225.957785</td>\n",
       "      <td>734.476178</td>\n",
       "      <td>288.0</td>\n",
       "      <td>645.748980</td>\n",
       "      <td>2.345732</td>\n",
       "      <td>9.980000e-01</td>\n",
       "      <td>12.262597</td>\n",
       "      <td>1.029402</td>\n",
       "      <td>33.480715</td>\n",
       "      <td>0.659100</td>\n",
       "      <td>0.975021</td>\n",
       "      <td>0.987455</td>\n",
       "    </tr>\n",
       "    <tr>\n",
       "      <th>std</th>\n",
       "      <td>2886.89568</td>\n",
       "      <td>2.624015</td>\n",
       "      <td>7.740467</td>\n",
       "      <td>22062.780307</td>\n",
       "      <td>772.211732</td>\n",
       "      <td>1090.569425</td>\n",
       "      <td>199.737886</td>\n",
       "      <td>199.737886</td>\n",
       "      <td>173.009157</td>\n",
       "      <td>0.0</td>\n",
       "      <td>72.483036</td>\n",
       "      <td>1.081038</td>\n",
       "      <td>2.236101e-13</td>\n",
       "      <td>5.320817</td>\n",
       "      <td>0.010353</td>\n",
       "      <td>25.721725</td>\n",
       "      <td>0.504791</td>\n",
       "      <td>0.014734</td>\n",
       "      <td>0.007510</td>\n",
       "    </tr>\n",
       "    <tr>\n",
       "      <th>min</th>\n",
       "      <td>0.00000</td>\n",
       "      <td>1.138000</td>\n",
       "      <td>3.000000</td>\n",
       "      <td>253.547000</td>\n",
       "      <td>1307.675000</td>\n",
       "      <td>6589.002000</td>\n",
       "      <td>5.304000</td>\n",
       "      <td>5.304000</td>\n",
       "      <td>444.731000</td>\n",
       "      <td>288.0</td>\n",
       "      <td>540.999000</td>\n",
       "      <td>1.093000</td>\n",
       "      <td>9.980000e-01</td>\n",
       "      <td>5.828000</td>\n",
       "      <td>1.019000</td>\n",
       "      <td>0.000000</td>\n",
       "      <td>0.068000</td>\n",
       "      <td>0.950000</td>\n",
       "      <td>0.975000</td>\n",
       "    </tr>\n",
       "    <tr>\n",
       "      <th>25%</th>\n",
       "      <td>2499.75000</td>\n",
       "      <td>3.144000</td>\n",
       "      <td>9.000000</td>\n",
       "      <td>8375.791500</td>\n",
       "      <td>1386.758000</td>\n",
       "      <td>7056.520500</td>\n",
       "      <td>60.317000</td>\n",
       "      <td>60.317000</td>\n",
       "      <td>589.841000</td>\n",
       "      <td>288.0</td>\n",
       "      <td>577.980750</td>\n",
       "      <td>1.389000</td>\n",
       "      <td>9.980000e-01</td>\n",
       "      <td>7.445000</td>\n",
       "      <td>1.020000</td>\n",
       "      <td>13.534000</td>\n",
       "      <td>0.246000</td>\n",
       "      <td>0.962000</td>\n",
       "      <td>0.981000</td>\n",
       "    </tr>\n",
       "    <tr>\n",
       "      <th>50%</th>\n",
       "      <td>4999.50000</td>\n",
       "      <td>5.140000</td>\n",
       "      <td>15.000000</td>\n",
       "      <td>21630.133500</td>\n",
       "      <td>1924.325000</td>\n",
       "      <td>8480.527000</td>\n",
       "      <td>175.264000</td>\n",
       "      <td>175.264000</td>\n",
       "      <td>705.351000</td>\n",
       "      <td>288.0</td>\n",
       "      <td>636.800000</td>\n",
       "      <td>2.082000</td>\n",
       "      <td>9.980000e-01</td>\n",
       "      <td>11.086000</td>\n",
       "      <td>1.026000</td>\n",
       "      <td>25.249500</td>\n",
       "      <td>0.496000</td>\n",
       "      <td>0.975000</td>\n",
       "      <td>0.987000</td>\n",
       "    </tr>\n",
       "    <tr>\n",
       "      <th>75%</th>\n",
       "      <td>7499.25000</td>\n",
       "      <td>7.148000</td>\n",
       "      <td>21.000000</td>\n",
       "      <td>39000.710250</td>\n",
       "      <td>2678.078000</td>\n",
       "      <td>9132.132500</td>\n",
       "      <td>332.360000</td>\n",
       "      <td>332.360000</td>\n",
       "      <td>833.154750</td>\n",
       "      <td>288.0</td>\n",
       "      <td>693.656750</td>\n",
       "      <td>2.981000</td>\n",
       "      <td>9.980000e-01</td>\n",
       "      <td>15.649000</td>\n",
       "      <td>1.036000</td>\n",
       "      <td>44.500000</td>\n",
       "      <td>0.881000</td>\n",
       "      <td>0.988000</td>\n",
       "      <td>0.994000</td>\n",
       "    </tr>\n",
       "    <tr>\n",
       "      <th>max</th>\n",
       "      <td>9999.00000</td>\n",
       "      <td>9.300000</td>\n",
       "      <td>27.000000</td>\n",
       "      <td>72783.338000</td>\n",
       "      <td>3560.741000</td>\n",
       "      <td>9797.103000</td>\n",
       "      <td>645.249000</td>\n",
       "      <td>645.249000</td>\n",
       "      <td>1115.797000</td>\n",
       "      <td>288.0</td>\n",
       "      <td>789.094000</td>\n",
       "      <td>4.560000</td>\n",
       "      <td>9.980000e-01</td>\n",
       "      <td>23.140000</td>\n",
       "      <td>1.052000</td>\n",
       "      <td>92.556000</td>\n",
       "      <td>1.832000</td>\n",
       "      <td>1.000000</td>\n",
       "      <td>1.000000</td>\n",
       "    </tr>\n",
       "  </tbody>\n",
       "</table>\n",
       "</div>"
      ],
      "text/plain": [
       "        Unnamed: 0  ...  GT Turbine decay state coefficient.\n",
       "count  10000.00000  ...                         10000.000000\n",
       "mean    4999.50000  ...                             0.987455\n",
       "std     2886.89568  ...                             0.007510\n",
       "min        0.00000  ...                             0.975000\n",
       "25%     2499.75000  ...                             0.981000\n",
       "50%     4999.50000  ...                             0.987000\n",
       "75%     7499.25000  ...                             0.994000\n",
       "max     9999.00000  ...                             1.000000\n",
       "\n",
       "[8 rows x 19 columns]"
      ]
     },
     "execution_count": 10,
     "metadata": {
      "tags": []
     },
     "output_type": "execute_result"
    }
   ],
   "source": [
    "df.describe() #Gives some description like the minimum, maximum, average etc values in each column."
   ]
  },
  {
   "cell_type": "code",
   "execution_count": null,
   "metadata": {
    "colab": {
     "base_uri": "https://localhost:8080/"
    },
    "id": "dVBcUEFBcYf3",
    "outputId": "d782f2e6-6215-413b-902d-39b636e9d6d8"
   },
   "outputs": [
    {
     "data": {
      "text/plain": [
       "(10000, 19)"
      ]
     },
     "execution_count": 7,
     "metadata": {
      "tags": []
     },
     "output_type": "execute_result"
    }
   ],
   "source": [
    "df=df.dropna(axis=0) #drops the rows which have missing values\n",
    "df.shape"
   ]
  },
  {
   "cell_type": "code",
   "execution_count": 15,
   "metadata": {
    "colab": {
     "base_uri": "https://localhost:8080/",
     "height": 508
    },
    "id": "74PUu9jGchN-",
    "outputId": "20656ff7-10d2-4b37-a191-eb36b34855fc"
   },
   "outputs": [
    {
     "data": {
      "text/plain": [
       "<AxesSubplot:>"
      ]
     },
     "execution_count": 15,
     "metadata": {},
     "output_type": "execute_result"
    },
    {
     "data": {
      "image/png": "[encoded data removed]",
      "text/plain": [
       "<Figure size 432x288 with 2 Axes>"
      ]
     },
     "metadata": {
      "needs_background": "light"
     },
     "output_type": "display_data"
    }
   ],
   "source": [
    "#This is heat map or correlation map to get a visual representaion of the relation between variables.\n",
    "import seaborn as sns\n",
    "cor=df.corr()\n",
    "sns.heatmap(cor,xticklabels=cor.columns,yticklabels=cor.columns, cmap=sns.diverging_palette(220, 20, as_cmap=True))"
   ]
  },
  {
   "cell_type": "markdown",
   "metadata": {
    "id": "wfNL9OS-dC5k"
   },
   "source": [
    "From this map we can see that variables GT Compressor decay state coefficient and GT Turbine decay state coefficient are not highly correlated with the remaining variables. We find relevant feature by setting certain threshold in the below code."
   ]
  },
  {
   "cell_type": "code",
   "execution_count": null,
   "metadata": {
    "colab": {
     "base_uri": "https://localhost:8080/"
    },
    "id": "v2r_eCDOhqki",
    "outputId": "a04556e0-dc83-4295-e01a-18a29ee6e0cf"
   },
   "outputs": [
    {
     "data": {
      "text/plain": [
       "Gas Generator rate of revolutions (GGn) [rpm]    0.020852\n",
       "HP Turbine exit temperature (T48) [C]            0.041719\n",
       "GT Compressor outlet air temperature (T2) [C]    0.049096\n",
       "HP Turbine exit pressure (P48) [bar]             0.006266\n",
       "GT Compressor outlet air pressure (P2) [bar]     0.006488\n",
       "Gas Turbine exhaust gas pressure (Pexh) [bar]    0.033397\n",
       "Turbine Injecton Control (TIC) [%]               0.034149\n",
       "Fuel flow (mf) [kg/s]                            0.015835\n",
       "GT Compressor decay state coefficient.           1.000000\n",
       "Name: GT Compressor decay state coefficient., dtype: float64"
      ]
     },
     "execution_count": 30,
     "metadata": {
      "tags": []
     },
     "output_type": "execute_result"
    }
   ],
   "source": [
    "#Correlation with output variable\n",
    "cor_target = abs(cor[\"GT Compressor decay state coefficient.\"])\n",
    "#Selecting highly correlated features\n",
    "relevant_features = cor_target[cor_target>0.005\n",
    "relevant_features"
   ]
  },
  {
   "cell_type": "code",
   "execution_count": null,
   "metadata": {
    "id": "BcySvLU6fSCG"
   },
   "outputs": [],
   "source": [
    "# Import train_test_split function\n",
    "from sklearn.model_selection import train_test_split\n",
    "from sklearn.preprocessing import LabelEncoder\n",
    "X=df[['Gas Generator rate of revolutions (GGn) [rpm]', 'HP Turbine exit temperature (T48) [C]','GT Compressor outlet air temperature (T2) [C]','HP Turbine exit pressure (P48) [bar]','Gas Turbine exhaust gas pressure (Pexh) [bar]','Turbine Injecton Control (TIC) [%]']]\n",
    "y=df['GT Compressor decay state coefficient.']\n",
    "# Split dataset into training set and test set\n",
    "X_train, X_test, y_train, y_test = train_test_split(X,y, test_size=0.3,random_state=109) # 70% training and 30% test"
   ]
  },
  {
   "cell_type": "code",
   "execution_count": null,
   "metadata": {
    "id": "XY1WUqvZumrz"
   },
   "outputs": [],
   "source": [
    "# creating instance of labelencoder and assigning categorical variables for the variable GT Compressor decay state coefficient.\n",
    "labelencoder = LabelEncoder()\n",
    "df['GT Compressor decay state coefficient.'] = labelencoder.fit_transform(df['GT Compressor decay state coefficient.'])\n"
   ]
  },
  {
   "cell_type": "code",
   "execution_count": 6,
   "metadata": {},
   "outputs": [],
   "source": [
    "#RANDOM FOREST CLASSIFIER"
   ]
  },
  {
   "cell_type": "code",
   "execution_count": null,
   "metadata": {
    "colab": {
     "base_uri": "https://localhost:8080/"
    },
    "id": "Ee9tkOtwr2z8",
    "outputId": "055d6e78-008f-4cc7-8832-3ac0c59cdee0"
   },
   "outputs": [
    {
     "data": {
      "text/plain": [
       "array([24,  3, 36, ..., 21,  0,  9])"
      ]
     },
     "execution_count": 17,
     "metadata": {
      "tags": []
     },
     "output_type": "execute_result"
    }
   ],
   "source": [
    "from sklearn.ensemble import RandomForestClassifier\n",
    "\n",
    "#Create a Gaussian Classifier\n",
    "clf=RandomForestClassifier(n_estimators=100)\n",
    "\n",
    "#Train the model using the training sets y_pred=clf.predict(X_test)\n",
    "clf.fit(X_train,y_train)\n",
    "\n",
    "y_pred=clf.predict(X_test)\n",
    "y_pred"
   ]
  },
  {
   "cell_type": "code",
   "execution_count": null,
   "metadata": {
    "colab": {
     "base_uri": "https://localhost:8080/"
    },
    "id": "tJvipHoov0BM",
    "outputId": "5f4fc031-0a13-4fb2-dc53-2d5c9db9d85a"
   },
   "outputs": [
    {
     "name": "stdout",
     "output_type": "stream",
     "text": [
      "Accuracy: 0.155\n"
     ]
    }
   ],
   "source": [
    "#Import scikit-learn metrics module for accuracy calculation\n",
    "from sklearn import metrics\n",
    "\n",
    "# Model Accuracy: how often is the classifier correct?\n",
    "print(\"Accuracy:\",metrics.accuracy_score(y_test, y_pred))"
   ]
  },
  {
   "cell_type": "code",
   "execution_count": 7,
   "metadata": {
    "colab": {
     "base_uri": "https://localhost:8080/"
    },
    "id": "mpe0TmnxNkPf",
    "outputId": "3ea6058a-843f-4d55-d92a-04667caf85f9"
   },
   "outputs": [],
   "source": [
    "# SUPPORT VECTOR MACHINE"
   ]
  },
  {
   "cell_type": "code",
   "execution_count": null,
   "metadata": {
    "id": "zavwskjqyFuY"
   },
   "outputs": [],
   "source": [
    "from sklearn import svm\n",
    "\n",
    "#Create a svm Classifier\n",
    "clf = svm.SVC(kernel='linear') # Linear Kernel\n",
    "\n",
    "#Train the model using the training sets\n",
    "clf.fit(X_train, y_train)\n",
    "\n",
    "#Predict the response for test dataset\n",
    "y_pred = clf.predict(X_test)"
   ]
  },
  {
   "cell_type": "code",
   "execution_count": null,
   "metadata": {
    "colab": {
     "base_uri": "https://localhost:8080/"
    },
    "id": "6qqfAfmzyLGk",
    "outputId": "ac346c73-f25b-4078-b68a-f3fa1d9dfc7d"
   },
   "outputs": [
    {
     "name": "stdout",
     "output_type": "stream",
     "text": [
      "Accuracy: 0.027333333333333334\n"
     ]
    }
   ],
   "source": [
    "#Import scikit-learn metrics module for accuracy calculation\n",
    "from sklearn import metrics\n",
    "\n",
    "# Model Accuracy: how often is the classifier correct?\n",
    "print(\"Accuracy:\",metrics.accuracy_score(y_test, y_pred))"
   ]
  },
  {
   "cell_type": "code",
   "execution_count": 8,
   "metadata": {},
   "outputs": [],
   "source": [
    "#GRADIENT BOOSTING"
   ]
  },
  {
   "cell_type": "code",
   "execution_count": null,
   "metadata": {
    "id": "Ojg2lFlgSE8w"
   },
   "outputs": [],
   "source": [
    "# Import train_test_split function\n",
    "from sklearn.model_selection import train_test_split\n",
    "from sklearn.preprocessing import LabelEncoder\n",
    "from sklearn.datasets import make_classification\n",
    "from sklearn.ensemble import GradientBoostingClassifier\n",
    "X=df[['Gas Generator rate of revolutions (GGn) [rpm]', 'HP Turbine exit temperature (T48) [C]','GT Compressor outlet air temperature (T2) [C]','HP Turbine exit pressure (P48) [bar]','Gas Turbine exhaust gas pressure (Pexh) [bar]','Turbine Injecton Control (TIC) [%]']]\n",
    "y=df['GT Compressor decay state coefficient.']\n",
    "# Split dataset into training set and test set\n",
    "X_train, X_test, y_train, y_test = train_test_split(X,y, test_size=0.3,random_state=109) # 70% training and 30% test"
   ]
  },
  {
   "cell_type": "code",
   "execution_count": null,
   "metadata": {
    "colab": {
     "base_uri": "https://localhost:8080/"
    },
    "id": "Izf4V46Kyf-Q",
    "outputId": "5c392120-4dd1-42c9-c495-3347a20abc80"
   },
   "outputs": [
    {
     "data": {
      "text/plain": [
       "0.07233333333333333"
      ]
     },
     "execution_count": 19,
     "metadata": {
      "tags": []
     },
     "output_type": "execute_result"
    }
   ],
   "source": [
    "\n",
    "clf = GradientBoostingClassifier(random_state=0)\n",
    "clf.fit(X_train, y_train)\n",
    "GradientBoostingClassifier(random_state=0)\n",
    "clf.score(X_test, y_test)"
   ]
  },
  {
   "cell_type": "code",
   "execution_count": null,
   "metadata": {
    "id": "iHnEmZA5YQ40"
   },
   "outputs": [],
   "source": [
    "from sklearn.ensemble import AdaBoostClassifier\n",
    "abc = AdaBoostClassifier(n_estimators=50,\n",
    "                         learning_rate=1)\n",
    "# Train Adaboost Classifer\n",
    "model = abc.fit(X_train, y_train)\n",
    "\n",
    "#Predict the response for test dataset\n",
    "y_pred = model.predict(X_test)"
   ]
  },
  {
   "cell_type": "code",
   "execution_count": null,
   "metadata": {
    "colab": {
     "base_uri": "https://localhost:8080/"
    },
    "id": "0Ds1yihOYa2r",
    "outputId": "e59f1af5-db5b-4a6a-95e4-a3a6ff7af7c3"
   },
   "outputs": [
    {
     "name": "stdout",
     "output_type": "stream",
     "text": [
      "Accuracy: 0.030333333333333334\n"
     ]
    }
   ],
   "source": [
    "print(\"Accuracy:\",metrics.accuracy_score(y_test, y_pred))"
   ]
  },
  {
   "cell_type": "code",
   "execution_count": 9,
   "metadata": {},
   "outputs": [],
   "source": [
    "#ADABOOST"
   ]
  },
  {
   "cell_type": "code",
   "execution_count": null,
   "metadata": {
    "colab": {
     "background_save": true
    },
    "id": "uc688i4iZQ4a",
    "outputId": "9eebce01-fbd3-4b47-c1ed-687428e86c6a"
   },
   "outputs": [
    {
     "name": "stdout",
     "output_type": "stream",
     "text": [
      "Accuracy: 0.017\n"
     ]
    }
   ],
   "source": [
    "from sklearn.ensemble import AdaBoostClassifier\n",
    "\n",
    "# Import Support Vector Classifier\n",
    "from sklearn.svm import SVC\n",
    "#Import scikit-learn metrics module for accuracy calculation\n",
    "from sklearn import metrics\n",
    "svc=SVC(probability=True, kernel='linear')\n",
    "\n",
    "# Create adaboost classifer object\n",
    "abc =AdaBoostClassifier(n_estimators=50, base_estimator=svc,learning_rate=1)\n",
    "\n",
    "# Train Adaboost Classifer\n",
    "model = abc.fit(X_train, y_train)\n",
    "\n",
    "#Predict the response for test dataset\n",
    "y_pred = model.predict(X_test)\n",
    "\n",
    "\n",
    "# Model Accuracy, how often is the classifier correct?\n",
    "print(\"Accuracy:\",metrics.accuracy_score(y_test, y_pred))"
   ]
  },
  {
   "cell_type": "markdown",
   "metadata": {
    "id": "mpYIp-cf0VPO"
   },
   "source": [
    "The classifiers used in this study is random forest, adaboost, gradient decent and support vector machine. Random forest classifier shows highest accuracy compared to other model with an accuracy of 15.3%. The model accuracy has to be increased by increasing the size of dataset for better prediction. "
   ]
  }
 ],
 "metadata": {
  "colab": {
   "collapsed_sections": [],
   "name": "mechademy2.ipynb",
   "provenance": []
  },
  "kernelspec": {
   "display_name": "Python 3",
   "language": "python",
   "name": "python3"
  },
  "language_info": {
   "codemirror_mode": {
    "name": "ipython",
    "version": 3
   },
   "file_extension": ".py",
   "mimetype": "text/x-python",
   "name": "python",
   "nbconvert_exporter": "python",
   "pygments_lexer": "ipython3",
   "version": "3.7.4"
  }
 },
 "nbformat": 4,
 "nbformat_minor": 1
}
